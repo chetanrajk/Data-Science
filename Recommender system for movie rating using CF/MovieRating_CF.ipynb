{
 "cells": [
  {
   "cell_type": "markdown",
   "metadata": {},
   "source": [
    "# Movie Rating Prediction"
   ]
  },
  {
   "cell_type": "code",
   "execution_count": 1,
   "metadata": {},
   "outputs": [],
   "source": [
    "import numpy as np\n",
    "import pandas as pd\n",
    "from sklearn.metrics import pairwise_distances\n",
    "from scipy.spatial.distance import cosine, correlation"
   ]
  },
  {
   "cell_type": "code",
   "execution_count": 2,
   "metadata": {},
   "outputs": [],
   "source": [
    "uim_header = ['user_id', 'item_id', 'rating']\n",
    "u_item_df = pd.read_csv('ml-100k/u.data', sep='\\t', names=uim_header, usecols=range(3))"
   ]
  },
  {
   "cell_type": "code",
   "execution_count": 64,
   "metadata": {},
   "outputs": [
    {
     "data": {
      "text/html": [
       "<div>\n",
       "<style scoped>\n",
       "    .dataframe tbody tr th:only-of-type {\n",
       "        vertical-align: middle;\n",
       "    }\n",
       "\n",
       "    .dataframe tbody tr th {\n",
       "        vertical-align: top;\n",
       "    }\n",
       "\n",
       "    .dataframe thead th {\n",
       "        text-align: right;\n",
       "    }\n",
       "</style>\n",
       "<table border=\"1\" class=\"dataframe\">\n",
       "  <thead>\n",
       "    <tr style=\"text-align: right;\">\n",
       "      <th></th>\n",
       "      <th>user_id</th>\n",
       "      <th>item_id</th>\n",
       "      <th>rating</th>\n",
       "    </tr>\n",
       "  </thead>\n",
       "  <tbody>\n",
       "    <tr>\n",
       "      <th>0</th>\n",
       "      <td>196</td>\n",
       "      <td>242</td>\n",
       "      <td>3</td>\n",
       "    </tr>\n",
       "    <tr>\n",
       "      <th>1</th>\n",
       "      <td>186</td>\n",
       "      <td>302</td>\n",
       "      <td>3</td>\n",
       "    </tr>\n",
       "    <tr>\n",
       "      <th>2</th>\n",
       "      <td>22</td>\n",
       "      <td>377</td>\n",
       "      <td>1</td>\n",
       "    </tr>\n",
       "    <tr>\n",
       "      <th>3</th>\n",
       "      <td>244</td>\n",
       "      <td>51</td>\n",
       "      <td>2</td>\n",
       "    </tr>\n",
       "    <tr>\n",
       "      <th>4</th>\n",
       "      <td>166</td>\n",
       "      <td>346</td>\n",
       "      <td>1</td>\n",
       "    </tr>\n",
       "    <tr>\n",
       "      <th>5</th>\n",
       "      <td>298</td>\n",
       "      <td>474</td>\n",
       "      <td>4</td>\n",
       "    </tr>\n",
       "    <tr>\n",
       "      <th>6</th>\n",
       "      <td>115</td>\n",
       "      <td>265</td>\n",
       "      <td>2</td>\n",
       "    </tr>\n",
       "    <tr>\n",
       "      <th>7</th>\n",
       "      <td>253</td>\n",
       "      <td>465</td>\n",
       "      <td>5</td>\n",
       "    </tr>\n",
       "    <tr>\n",
       "      <th>8</th>\n",
       "      <td>305</td>\n",
       "      <td>451</td>\n",
       "      <td>3</td>\n",
       "    </tr>\n",
       "    <tr>\n",
       "      <th>9</th>\n",
       "      <td>6</td>\n",
       "      <td>86</td>\n",
       "      <td>3</td>\n",
       "    </tr>\n",
       "  </tbody>\n",
       "</table>\n",
       "</div>"
      ],
      "text/plain": [
       "   user_id  item_id  rating\n",
       "0      196      242       3\n",
       "1      186      302       3\n",
       "2       22      377       1\n",
       "3      244       51       2\n",
       "4      166      346       1\n",
       "5      298      474       4\n",
       "6      115      265       2\n",
       "7      253      465       5\n",
       "8      305      451       3\n",
       "9        6       86       3"
      ]
     },
     "execution_count": 64,
     "metadata": {},
     "output_type": "execute_result"
    }
   ],
   "source": [
    "u_item_df.head(10)"
   ]
  },
  {
   "cell_type": "code",
   "execution_count": 4,
   "metadata": {},
   "outputs": [
    {
     "name": "stdout",
     "output_type": "stream",
     "text": [
      "Number of users: 943\n",
      "Number of items: 1682\n"
     ]
    }
   ],
   "source": [
    "users = u_item_df.user_id.unique().shape[0]\n",
    "items = u_item_df.item_id.unique().shape[0]\n",
    "\n",
    "print(\"Number of users:\", users)\n",
    "print(\"Number of items:\", items)"
   ]
  },
  {
   "cell_type": "code",
   "execution_count": 67,
   "metadata": {},
   "outputs": [
    {
     "name": "stdout",
     "output_type": "stream",
     "text": [
      "\n",
      "User-Item matrix:\n",
      "\n",
      "[[5. 3. 4. ... 0. 0. 0.]\n",
      " [4. 0. 0. ... 0. 0. 0.]\n",
      " [0. 0. 0. ... 0. 0. 0.]\n",
      " ...\n",
      " [5. 0. 0. ... 0. 0. 0.]\n",
      " [0. 0. 0. ... 0. 0. 0.]\n",
      " [0. 5. 0. ... 0. 0. 0.]]\n"
     ]
    }
   ],
   "source": [
    "ratings = np.zeros((users, items))\n",
    "\n",
    "for row in u_item_df.itertuples():\n",
    "    \n",
    "    ratings[row[1]-1, row[2]-1] = row[3]\n",
    "    \n",
    "print(\"\\nUser-Item matrix:\\n\")\n",
    "print(ratings)"
   ]
  },
  {
   "cell_type": "code",
   "execution_count": 68,
   "metadata": {},
   "outputs": [
    {
     "name": "stdout",
     "output_type": "stream",
     "text": [
      "\n",
      "User-Similarity matrix:\n",
      "\n",
      "(943, 943)\n",
      "[[1.         0.16693098 0.04745954 0.06435782]\n",
      " [0.16693098 1.         0.11059132 0.17812119]\n",
      " [0.04745954 0.11059132 1.         0.34415072]\n",
      " [0.06435782 0.17812119 0.34415072 1.        ]]\n"
     ]
    }
   ],
   "source": [
    "userSim_matrix = 1 - pairwise_distances(ratings, metric=\"cosine\" )\n",
    "np.fill_diagonal(userSim_matrix, 1)\n",
    "print(\"\\nUser-Similarity matrix:\\n\")\n",
    "print(userSim_matrix.shape)\n",
    "print(userSim_matrix[:4, :4])"
   ]
  },
  {
   "cell_type": "code",
   "execution_count": 69,
   "metadata": {},
   "outputs": [
    {
     "name": "stdout",
     "output_type": "stream",
     "text": [
      "\n",
      "Item-Similarity matrix:\n",
      "\n",
      "(1682, 1682)\n",
      "[[1.         0.40238218 0.33024479 0.45493792]\n",
      " [0.40238218 1.         0.27306918 0.50257077]\n",
      " [0.33024479 0.27306918 1.         0.32486639]\n",
      " [0.45493792 0.50257077 0.32486639 1.        ]]\n"
     ]
    }
   ],
   "source": [
    "itemSim_matrix = 1 - pairwise_distances(ratings.T, metric=\"cosine\" )\n",
    "np.fill_diagonal(itemSim_matrix, 1 )\n",
    "print(\"\\nItem-Similarity matrix:\\n\")\n",
    "print(itemSim_matrix.shape)\n",
    "print(itemSim_matrix[:4, :4])"
   ]
  },
  {
   "cell_type": "code",
   "execution_count": 70,
   "metadata": {},
   "outputs": [],
   "source": [
    "#Function to predict rating based on CF\n",
    "'''Inputs:  User-item matrix\n",
    "           Neighbourhood size\n",
    "           User id\n",
    "           Item id\n",
    "           \n",
    "   Outputs: u_pred, i_pred\n",
    "'''\n",
    "\n",
    "def predictRating(ratings, k, u, i):\n",
    "    \n",
    "    u_pred = 0\n",
    "    i_pred = 0\n",
    "    \n",
    "    #User-based Collaborative Filtering\n",
    "    \n",
    "    mean_user_ratings = ratings.mean(axis=1)\n",
    "    #print(mean_user_ratings[u])\n",
    "    top_k_neigh_user = [np.argsort(userSim_matrix[:,u])[:-k-1:-1]]    \n",
    "    #print(top_k_neigh)\n",
    "        \n",
    "    u_pred = userSim_matrix[u, :][top_k_neigh_user].dot(ratings[:, i][top_k_neigh_user])   \n",
    "    u_pred /= np.sum(np.abs(userSim_matrix[u, :][top_k_neigh_user]))\n",
    "    #print(u_pred)\n",
    "    \n",
    "    u_pred = mean_user_ratings[u] + u_pred\n",
    "    #print(u_pred)\n",
    "    \n",
    "    #Item-based Collaborative Filtering\n",
    "    \n",
    "    mean_item_ratings = ratings.mean(axis=0)\n",
    "    #print(mean_item_ratings[i])\n",
    "    \n",
    "    top_k_neigh_item = [np.argsort(itemSim_matrix[:,i])[:-k-1:-1]]\n",
    "    #print(top_k_neigh_item)\n",
    "    \n",
    "    i_pred  = itemSim_matrix[i, :][top_k_neigh_item].dot(ratings[u, :][top_k_neigh_item].T) \n",
    "    i_pred /= np.sum(np.abs(itemSim_matrix[i, :][top_k_neigh_item]))\n",
    "    #print(i_pred)\n",
    "    \n",
    "    i_pred = mean_item_ratings[i] + i_pred\n",
    "    #print(i_pred)\n",
    "    \n",
    "    return u_pred, i_pred"
   ]
  },
  {
   "cell_type": "code",
   "execution_count": 71,
   "metadata": {},
   "outputs": [
    {
     "name": "stdout",
     "output_type": "stream",
     "text": [
      "\n",
      "Example: 1:  User-item matrix, Neighborhood size=10, User-id u=6, Item-id i=66\n",
      "\n",
      "Predicted rating: User-based CF :  1.5156584813849512\n",
      "Predicted rating: Item-based CF :  2.5067084558855424\n",
      "\n",
      "Example: 2:  User-item matrix, Neighborhood size=15, User-id u=45, Item-id i=123\n",
      "\n",
      "Predicted rating: User-based CF :  0.781233091111011\n",
      "Predicted rating: Item-based CF :  1.623726662765576\n",
      "\n",
      "Example: 3:  User-item matrix, Neighborhood size=25, User-id u=195, Item-id i=302\n",
      "\n",
      "Predicted rating: User-based CF :  1.034796521296658\n",
      "Predicted rating: Item-based CF :  1.2437771199224632\n"
     ]
    }
   ],
   "source": [
    "print(\"\\nExample: 1:  User-item matrix, Neighborhood size=10, User-id u=6, Item-id i=66\")\n",
    "u_pred, i_pred = predictRating(ratings, 10, 6, 66)\n",
    "print(\"\\nPredicted rating: User-based CF : \", u_pred)\n",
    "print(\"Predicted rating: Item-based CF : \", i_pred)\n",
    "\n",
    "print(\"\\nExample: 2:  User-item matrix, Neighborhood size=15, User-id u=45, Item-id i=123\")\n",
    "u_pred, i_pred = predictRating(ratings, 15, 45, 123)\n",
    "print(\"\\nPredicted rating: User-based CF : \", u_pred)\n",
    "print(\"Predicted rating: Item-based CF : \", i_pred)\n",
    "\n",
    "print(\"\\nExample: 3:  User-item matrix, Neighborhood size=25, User-id u=195, Item-id i=302\")\n",
    "u_pred, i_pred = predictRating(ratings, 25, 195, 302)\n",
    "print(\"\\nPredicted rating: User-based CF : \", u_pred)\n",
    "print(\"Predicted rating: Item-based CF : \", i_pred)"
   ]
  }
 ],
 "metadata": {
  "kernelspec": {
   "display_name": "Python 3",
   "language": "python",
   "name": "python3"
  },
  "language_info": {
   "codemirror_mode": {
    "name": "ipython",
    "version": 3
   },
   "file_extension": ".py",
   "mimetype": "text/x-python",
   "name": "python",
   "nbconvert_exporter": "python",
   "pygments_lexer": "ipython3",
   "version": "3.6.5"
  }
 },
 "nbformat": 4,
 "nbformat_minor": 2
}
